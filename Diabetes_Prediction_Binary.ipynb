{
  "nbformat": 4,
  "nbformat_minor": 0,
  "metadata": {
    "colab": {
      "provenance": []
    },
    "kernelspec": {
      "name": "python3",
      "display_name": "Python 3"
    },
    "language_info": {
      "name": "python"
    }
  },
  "cells": [
    {
      "cell_type": "markdown",
      "source": [
        "# Setting Up Data"
      ],
      "metadata": {
        "id": "XTIRFpr6qq9e"
      }
    },
    {
      "cell_type": "code",
      "execution_count": 8,
      "metadata": {
        "id": "dpWxp0wfkc5d",
        "colab": {
          "base_uri": "https://localhost:8080/"
        },
        "outputId": "8472a391-9754-41d0-b977-288ac146de24"
      },
      "outputs": [
        {
          "output_type": "stream",
          "name": "stderr",
          "text": [
            "Downloading...\n",
            "From: https://drive.google.com/uc?id=1uCguAS-LjfEAfu_WhZM6dgxy9-o4hXjF\n",
            "To: /content/diabetes_data.csv\n",
            "100%|██████████| 22.7M/22.7M [00:00<00:00, 79.7MB/s]\n"
          ]
        }
      ],
      "source": [
        "!pip install -q gdown\n",
        "import gdown\n",
        "import pandas as pd\n",
        "\n",
        "gdown.download(id=\"1uCguAS-LjfEAfu_WhZM6dgxy9-o4hXjF\", output=\"diabetes_data.csv\", quiet=False)\n",
        "file_path = \"/content/diabetes_data.csv\"\n",
        "df = pd.read_csv(file_path)"
      ]
    },
    {
      "cell_type": "code",
      "source": [
        "from sklearn.model_selection import train_test_split\n",
        "from sklearn.metrics import classification_report, confusion_matrix\n",
        "\n",
        "df = df.rename(columns={\"Diabetes_binary\": \"Diabetes\"})\n",
        "\n",
        "X = df.drop(\"Diabetes\", axis=1)\n",
        "y = df[\"Diabetes\"]\n",
        "\n",
        "X_train, X_test, y_train, y_test = train_test_split(X, y, test_size=0.2, random_state=42, stratify=y)"
      ],
      "metadata": {
        "id": "FLWqyiYfqw2w"
      },
      "execution_count": 3,
      "outputs": []
    },
    {
      "cell_type": "markdown",
      "source": [
        "# Linear Regeression Model"
      ],
      "metadata": {
        "id": "UOr0Pq5BqXSX"
      }
    },
    {
      "cell_type": "code",
      "source": [
        "from sklearn.linear_model import LinearRegression\n",
        "from sklearn.metrics import mean_squared_error, r2_score\n",
        "\n",
        "model = LinearRegression()\n",
        "model.fit(X_train, y_train)\n",
        "\n",
        "y_pred = model.predict(X_test)\n",
        "\n",
        "mse = mean_squared_error(y_test, y_pred)\n",
        "r2 = r2_score(y_test, y_pred)\n",
        "\n",
        "print(\"Mean Squared Error:\", mse)\n",
        "print(\"R-squared:\", r2)"
      ],
      "metadata": {
        "id": "NVR3O8FQ4g7K",
        "colab": {
          "base_uri": "https://localhost:8080/"
        },
        "outputId": "6ca5a8e8-e91e-49d7-ca79-b6ed10a8b55f"
      },
      "execution_count": 5,
      "outputs": [
        {
          "output_type": "stream",
          "name": "stdout",
          "text": [
            "Mean Squared Error: 0.10109416807810635\n",
            "R-squared: 0.15696187700478514\n"
          ]
        }
      ]
    },
    {
      "cell_type": "markdown",
      "source": [
        "# Classification Model (Random Forest)"
      ],
      "metadata": {
        "id": "j0kBZctFqO9a"
      }
    },
    {
      "cell_type": "code",
      "source": [
        "from sklearn.ensemble import RandomForestClassifier\n",
        "\n",
        "clf = RandomForestClassifier(class_weight='balanced')\n",
        "clf.fit(X_train, y_train)\n",
        "\n",
        "y_pred = clf.predict(X_test)\n",
        "\n",
        "print(\"Confusion Matrix:\\n\", confusion_matrix(y_test, y_pred))\n",
        "print(\"\\nClassification Report:\\n\", classification_report(y_test, y_pred))"
      ],
      "metadata": {
        "colab": {
          "base_uri": "https://localhost:8080/"
        },
        "id": "GOjrHBmQqNOZ",
        "outputId": "c32e73ef-d7b2-4261-d24c-c4930313f358"
      },
      "execution_count": 6,
      "outputs": [
        {
          "output_type": "stream",
          "name": "stdout",
          "text": [
            "Confusion Matrix:\n",
            " [[42331  1336]\n",
            " [ 5956  1113]]\n",
            "\n",
            "Classification Report:\n",
            "               precision    recall  f1-score   support\n",
            "\n",
            "         0.0       0.88      0.97      0.92     43667\n",
            "         1.0       0.45      0.16      0.23      7069\n",
            "\n",
            "    accuracy                           0.86     50736\n",
            "   macro avg       0.67      0.56      0.58     50736\n",
            "weighted avg       0.82      0.86      0.83     50736\n",
            "\n"
          ]
        }
      ]
    },
    {
      "cell_type": "markdown",
      "source": [
        "# XGBoost Model"
      ],
      "metadata": {
        "id": "xW-QmVDUp6Fz"
      }
    },
    {
      "cell_type": "code",
      "source": [
        "from xgboost import XGBClassifier\n",
        "from collections import Counter\n",
        "\n",
        "counts = Counter(y_train)\n",
        "scale_pos_weight = counts[0] / counts[1]\n",
        "\n",
        "clf = XGBClassifier(scale_pos_weight=scale_pos_weight, eval_metric='logloss')\n",
        "clf.fit(X_train, y_train)\n",
        "\n",
        "# Predict and evaluate\n",
        "y_pred = clf.predict(X_test)\n",
        "\n",
        "print(\"Confusion Matrix:\\n\", confusion_matrix(y_test, y_pred))\n",
        "print(\"\\nClassification Report:\\n\", classification_report(y_test, y_pred))"
      ],
      "metadata": {
        "colab": {
          "base_uri": "https://localhost:8080/"
        },
        "id": "Q-qlcy2zp45T",
        "outputId": "96f206ed-bca3-4003-d346-c97751cbaccf"
      },
      "execution_count": 7,
      "outputs": [
        {
          "output_type": "stream",
          "name": "stdout",
          "text": [
            "Confusion Matrix:\n",
            " [[31481 12186]\n",
            " [ 1594  5475]]\n",
            "\n",
            "Classification Report:\n",
            "               precision    recall  f1-score   support\n",
            "\n",
            "         0.0       0.95      0.72      0.82     43667\n",
            "         1.0       0.31      0.77      0.44      7069\n",
            "\n",
            "    accuracy                           0.73     50736\n",
            "   macro avg       0.63      0.75      0.63     50736\n",
            "weighted avg       0.86      0.73      0.77     50736\n",
            "\n"
          ]
        }
      ]
    }
  ]
}